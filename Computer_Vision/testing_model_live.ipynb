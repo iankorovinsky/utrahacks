{
 "cells": [
  {
   "cell_type": "code",
   "execution_count": 1,
   "metadata": {},
   "outputs": [
    {
     "name": "stdout",
     "output_type": "stream",
     "text": [
      "Scanning for devices...\n",
      "Found 7 devices.\n",
      "0: 41:42:0B:57:00:E8 - IQPODZ06\n",
      "1: 14:98:77:E7:8F:5D - Yun Lei’s AirPods\n",
      "2: E8:AB:FA:37:CD:07 - TAOTRONICS SoundSurge 60\n",
      "3: 14:3F:A6:09:D9:EE - WH-1000XM4\n",
      "4: B0:BE:83:49:CE:13 - MacBook Pro (2)\n",
      "5: D4:D8:53:DD:8C:80 - JASHVIR1\n",
      "6: 30:BB:7D:F3:A8:40 - makishima\n"
     ]
    },
    {
     "ename": "ValueError",
     "evalue": "invalid literal for int() with base 10: ''",
     "output_type": "error",
     "traceback": [
      "\u001b[1;31m---------------------------------------------------------------------------\u001b[0m",
      "\u001b[1;31mValueError\u001b[0m                                Traceback (most recent call last)",
      "Cell \u001b[1;32mIn[1], line 22\u001b[0m\n\u001b[0;32m     19\u001b[0m     \u001b[38;5;28mprint\u001b[39m(\u001b[38;5;124m\"\u001b[39m\u001b[38;5;132;01m{}\u001b[39;00m\u001b[38;5;124m: \u001b[39m\u001b[38;5;132;01m{}\u001b[39;00m\u001b[38;5;124m - \u001b[39m\u001b[38;5;132;01m{}\u001b[39;00m\u001b[38;5;124m\"\u001b[39m\u001b[38;5;241m.\u001b[39mformat(index, addr, name))\n\u001b[0;32m     21\u001b[0m \u001b[38;5;66;03m# Select your ESP32 device\u001b[39;00m\n\u001b[1;32m---> 22\u001b[0m selection \u001b[38;5;241m=\u001b[39m \u001b[38;5;28;43mint\u001b[39;49m\u001b[43m(\u001b[49m\u001b[38;5;28;43minput\u001b[39;49m\u001b[43m(\u001b[49m\u001b[38;5;124;43m\"\u001b[39;49m\u001b[38;5;124;43mSelect device index: \u001b[39;49m\u001b[38;5;124;43m\"\u001b[39;49m\u001b[43m)\u001b[49m\u001b[43m)\u001b[49m\n\u001b[0;32m     23\u001b[0m addr, name \u001b[38;5;241m=\u001b[39m nearby_devices[selection]\n\u001b[0;32m     24\u001b[0m \u001b[38;5;28mprint\u001b[39m(\u001b[38;5;124m\"\u001b[39m\u001b[38;5;124mYou have selected \u001b[39m\u001b[38;5;132;01m{}\u001b[39;00m\u001b[38;5;124m\"\u001b[39m\u001b[38;5;241m.\u001b[39mformat(name))\n",
      "\u001b[1;31mValueError\u001b[0m: invalid literal for int() with base 10: ''"
     ]
    }
   ],
   "source": [
    "#pip install pybluez\n",
    "#pip install pyserial\n",
    "# python -m pip install -e git+https://github.com/pybluez/pybluez.git#egg=pybluez\n",
    "# on linux : sudo apt-get install bluetooth libbluetooth-dev\n",
    "# sudo python3 -m pip install pybluez\n",
    "# I didn't have a specific microsoft c++ package.\n",
    "\n",
    "import serial\n",
    "import time\n",
    "from bluetooth import *\n",
    "# Scan for available Bluetooth devices\n",
    "nearby_devices = discover_devices(lookup_names=True)\n",
    "print(\"Scanning for devices...\")\n",
    "print(\"Found {} devices.\".format(len(nearby_devices)))\n",
    "\n",
    "# List devices\n",
    "for index, device in enumerate(nearby_devices):\n",
    "    addr, name = device\n",
    "    print(\"{}: {} - {}\".format(index, addr, name))\n",
    "\n",
    "# Select your ESP32 device\n",
    "selection = int(input(\"Select device index: \"))\n",
    "addr, name = nearby_devices[selection]\n",
    "print(\"You have selected {}\".format(name))\n",
    "\n",
    "# Replace with your ESP32's Bluetooth address\n",
    "# Example: '01:23:45:67:89:AB'\n",
    "esp32_bt_address = 'b0:a7:32:2a:8a:46'\n",
    "\n",
    "# Connect to the ESP32 over Bluetooth\n",
    "port = 1  # The standard port for Bluetooth Serial on ESP32\n",
    "sock = BluetoothSocket(RFCOMM)\n",
    "sock.connect((esp32_bt_address, port))\n",
    "print(\"Connected to {}\".format(name))\n",
    "\n",
    "\n",
    "# f = open(\"read_write_file.txt\", \"r\")  #open the file for reading input\n",
    "\n",
    "\n",
    "def sending_info(command): \n",
    "    # Now let's send data\n",
    "    while True:\n",
    "        # Write a string to the ESP32\n",
    "        # line = f.readline().strip() # reading the file for input\n",
    "        \n",
    "        # data_to_send = line \n",
    "        # For Manual Input:\n",
    "        # data_to_send = input(\"Enter data to send: \")\n",
    "        data_to_send = str(command)\n",
    "        if data_to_send.lower() == 'exit':\n",
    "            break\n",
    "        sock.send(data_to_send + '\\n')  # Send the data with a newline character\n",
    "        time.sleep(1)  # Wait a bit, necessary for some devices\n",
    "\n",
    "    # sock.close()\n",
    "    # print(\"Disconnected\")"
   ]
  },
  {
   "cell_type": "markdown",
   "metadata": {},
   "source": [
    "### sending the data to the esp32"
   ]
  },
  {
   "cell_type": "code",
   "execution_count": null,
   "metadata": {},
   "outputs": [],
   "source": [
    "%run mediapipe_formatting_data/opencv_video_cutting.ipynb"
   ]
  },
  {
   "cell_type": "code",
   "execution_count": null,
   "metadata": {},
   "outputs": [],
   "source": [
    "import cv2\n",
    "import numpy as np\n",
    "from numpy import asarray\n",
    "import pandas as pd\n",
    "import tensorflow as tf\n",
    "import mediapipe as mp\n",
    "import os\n",
    "import csv\n",
    "from tensorflow.keras.losses import SparseCategoricalCrossentropy\n",
    "from tensorflow.keras.optimizers import Adam\n",
    "import time\n",
    "import streamlit as st\n",
    "from matplotlib import pyplot as plt\n",
    "from PIL import Image"
   ]
  },
  {
   "cell_type": "code",
   "execution_count": null,
   "metadata": {},
   "outputs": [],
   "source": [
    "\n",
    "def make_prediction(model_path, labels, csv_file):\n",
    "    my_model = tf.keras.models.load_model(model_path, compile=False)\n",
    "    my_model.compile(loss=SparseCategoricalCrossentropy(), optimizer=Adam(), metrics=[\"accuracy\"])\n",
    "    predictions = {n: 0 for n in labels}\n",
    "    csv = pd.read_csv(csv_file)\n",
    "    # print(csv)\n",
    "    coords = np.array(csv)\n",
    "    for frame in coords:\n",
    "        new_frame = tf.expand_dims(frame,0)\n",
    "        preds = my_model.predict(new_frame)\n",
    "        pred_value = np.argmax(preds)\n",
    "        # for i in range(len(preds[0])):\n",
    "        #     print(preds[0][i])\n",
    "        #     predictions[saved_classes[i]] += preds[0][i]\n",
    "        #     total += preds[0][i]\n",
    "        predictions[labels[pred_value]] += 1\n",
    "        # print(preds)\n",
    "    final_prediction = max(predictions, key=predictions.get)\n",
    "    return predictions, final_prediction\n",
    "\n",
    "\n",
    "\n",
    "# #writing the information to the parent file\n",
    "# # https://blog.enterprisedna.co/python-write-to-file/\n",
    "# fobj = open(os.path.join(os.pardir, \"commands.csv\"), \"w\")\n",
    "# fobj.write(str(number[prediction[1]]))\n",
    "\n",
    "# fobj.close()"
   ]
  },
  {
   "cell_type": "code",
   "execution_count": null,
   "metadata": {},
   "outputs": [],
   "source": [
    "def run():\n",
    "    # model_path = \"Computer_Vision/training_computer_vision/model/model.107-0.98\"# \"D:/Personnel/Other learning/Programming/Personal_projects/ASL_Language_translation/training_models/mediapipe/Simple-Dense-Layers/regularized-4-labels.10-0.68\"\n",
    "    # model_path = r\"/mnt/DATA/Personnel/Other learning/Programming/Personal_projects/3_Hackathons_with_buddies/UTRAHACKS2024/Computer_Vision/training_computer_vision/model/model.107-0.98\"\n",
    "    model_path = r\"D:\\Personnel\\Other learning\\Programming\\Personal_projects\\3_Hackathons_with_buddies\\UTRAHACKS2024\\Computer_Vision\\training_computer_vision\\model\\model.107-0.98\"\n",
    "    labels = [\"start\", \"turn\", \"grapple\"]\n",
    "\n",
    "    # csv_file = \"/Users/aly/Documents/Programming/Apps/Machine Learning/ASL Converter/training_models/mediapipe/demo_test/demo.csv\"\n",
    "    csv_file=\"demo.csv\"\n",
    "\n",
    "    input(\"TRY ME OUT!! \")\n",
    "    # extract_coordinates()\n",
    "    open_cam(\"demo.csv\")\n",
    "    time.sleep(0.5)\n",
    "    prediction = make_prediction(model_path, labels, csv_file)\n",
    "\n",
    "    # !clear the csv file after each use\n",
    "    # opening the file with w+ mode truncates the file\n",
    "    f = open(csv_file, \"w+\")\n",
    "    f.close()\n",
    "\n",
    "\n",
    "    number = {\"start\": 0, \"turn\": 1, \"grapple\": 2}\n",
    "    print(type(prediction))\n",
    "    print(prediction)\n",
    "    print(prediction[1])\n",
    "    #sending the info to the esp:\n",
    "    sending_info(number[prediction[1]])\n",
    "    "
   ]
  },
  {
   "cell_type": "code",
   "execution_count": null,
   "metadata": {},
   "outputs": [],
   "source": [
    "while input(\"Type x to stop\") != 'x':\n",
    "    run()\n",
    "    time.sleep(5)\n",
    "\n",
    "\n",
    "# sending_info(\"exit\")\n",
    "sock.close()\n",
    "print(\"Disconnected\")"
   ]
  }
 ],
 "metadata": {
  "kernelspec": {
   "display_name": "ai_hackathon",
   "language": "python",
   "name": "python3"
  },
  "language_info": {
   "codemirror_mode": {
    "name": "ipython",
    "version": 3
   },
   "file_extension": ".py",
   "mimetype": "text/x-python",
   "name": "python",
   "nbconvert_exporter": "python",
   "pygments_lexer": "ipython3",
   "version": "3.9.17"
  }
 },
 "nbformat": 4,
 "nbformat_minor": 2
}
